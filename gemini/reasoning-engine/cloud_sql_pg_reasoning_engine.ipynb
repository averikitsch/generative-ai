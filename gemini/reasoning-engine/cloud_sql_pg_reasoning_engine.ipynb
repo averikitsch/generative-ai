{
 "cells": [
  {
   "cell_type": "code",
   "source": [
    "# Copyright 2024 Google LLC\n",
    "#\n",
    "# Licensed under the Apache License, Version 2.0 (the \"License\");\n",
    "# you may not use this file except in compliance with the License.\n",
    "# You may obtain a copy of the License at\n",
    "#\n",
    "#     https://www.apache.org/licenses/LICENSE-2.0\n",
    "#\n",
    "# Unless required by applicable law or agreed to in writing, software\n",
    "# distributed under the License is distributed on an \"AS IS\" BASIS,\n",
    "# WITHOUT WARRANTIES OR CONDITIONS OF ANY KIND, either express or implied.\n",
    "# See the License for the specific language governing permissions and\n",
    "# limitations under the License."
   ],
   "metadata": {
    "id": "3YcBnq20nC6r"
   },
   "execution_count": null,
   "outputs": []
  },
  {
   "cell_type": "markdown",
   "source": [
    "# Deploying a RAG Application with Cloud SQL for Postgres with Reasoning Engine on Vertex AI\n",
    "\n",
    "<table align=\"left\">\n",
    "  <td style=\"text-align: center\">\n",
    "    <a href=\"https://colab.research.google.com/github/GoogleCloudPlatform/generative-ai/blob/main/gemini/reasoning-engine/tutorial_cloud_sql_pg_reasoning_engine.ipynb\">\n",
    "      <img src=\"https://cloud.google.com/ml-engine/images/colab-logo-32px.png\" alt=\"Google Colaboratory logo\"><br> Run in Colab\n",
    "    </a>\n",
    "  </td>\n",
    "  <td style=\"text-align: center\">\n",
    "    <a href=\"https://console.cloud.google.com/vertex-ai/colab/import/https:%2F%2Fraw.githubusercontent.com%2FGoogleCloudPlatform%2Fgenerative-ai%2Fmain%2Fgemini%2Freasoning-engine%2Ftutorial_cloud_sql_pg_reasoning_engine.ipynb\">\n",
    "      <img width=\"32px\" src=\"https://lh3.googleusercontent.com/JmcxdQi-qOpctIvWKgPtrzZdJJK-J3sWE1RsfjZNwshCFgE_9fULcNpuXYTilIR2hjwN\" alt=\"Google Cloud Colab Enterprise logo\"><br> Run in Colab Enterprise\n",
    "    </a>\n",
    "  </td>      \n",
    "  <td style=\"text-align: center\">\n",
    "    <a href=\"https://github.com/GoogleCloudPlatform/generative-ai/blob/main/gemini/reasoning-engine/tutorial_cloud_sql_pg_reasoning_engine.ipynb\">\n",
    "      <img src=\"https://cloud.google.com/ml-engine/images/github-logo-32px.png\" alt=\"GitHub logo\"><br> View on GitHub\n",
    "    </a>\n",
    "  </td>\n",
    "  <td style=\"text-align: center\">\n",
    "    <a href=\"https://console.cloud.google.com/vertex-ai/workbench/deploy-notebook?download_url=https://raw.githubusercontent.com/GoogleCloudPlatform/generative-ai/main/gemini/reasoning-engine/tutorial_cloud_sql_pg_reasoning_engine.ipynb\">\n",
    "      <img src=\"https://lh3.googleusercontent.com/UiNooY4LUgW_oTvpsNhPpQzsstV5W8F7rYgxgGBD85cWJoLmrOzhVs_ksK_vgx40SHs7jCqkTkCk=e14-rj-sc0xffffff-h130-w32\" alt=\"Vertex AI logo\"><br> Open in Vertex AI Workbench\n",
    "    </a>\n",
    "  </td>\n",
    "</table>"
   ],
   "metadata": {
    "id": "xU0F5ObiGgF4"
   }
  },
  {
   "cell_type": "markdown",
   "source": [
    "## Overview\n",
    "\n",
    "[Reasoning Engine](https://cloud.google.com/vertex-ai/generative-ai/docs/reasoning-engine/overview) (LangChain on Vertex AI) is a managed service in Vertex AI that helps you to build and deploy an agent reasoning framework. It gives you the flexibility to choose how much reasoning you want to delegate to the LLM and how much you want to handle with customized code.\n",
    "\n",
    "RAG (Retrieval-Augmented Generation) is an AI framework that combines the strengths of traditional information retrieval systems (such as databases) with the capabilities of generative large language models (LLMs).  By combining this extra knowledge with its own language skills, the AI can write text that is more accurate, up-to-date, and relevant to your specific needs.\n",
    "\n",
    "## Objectives\n",
    "\n",
    "In this tutorial, you will learn how to build and deploy an agent (model, tools, and reasoning) using the Vertex AI SDK for Python and Cloud SQL for PostgreSQL LangChain integration.\n",
    "\n",
    "Your [LangChain](https://python.langchain.com/docs/get_started/introduction) agent will use an [Postgres Vector Store](https://github.com/googleapis/langchain-google-cloud-sql-pg-python/tree/main) to perform a similary search and retrieve related data to ground the LLM response.\n",
    "\n",
    "* Install and set up the Cloud SQL for PostgreSQL for LangChain and the Vertex AI Python SDKs\n",
    "* Create an Cloud SQL instance\n",
    "* Create an Cloud SQL database user\n",
    "* Define a retriever to perform similarity searches\n",
    "* Use the LangChain agent template provided in the Vertex AI SDK for Reasoning Engine\n",
    "* Deploy and test your agent on Reasoning Engine in Vertex AI"
   ],
   "metadata": {
    "id": "GZft-jYpHmYv"
   }
  },
  {
   "cell_type": "markdown",
   "source": [
    "## Before you begin\n",
    "\n",
    "1. In the Google Cloud console, on the project selector page, select or [create a Google Cloud project](https://cloud.google.com/resource-manager/docs/creating-managing-projects).\n",
    "1. [Make sure that billing is enabled for your Google Cloud project](https://cloud.google.com/billing/docs/how-to/verify-billing-enabled#console).\n",
    "\n",
    "### Required roles\n",
    "\n",
    "To get the permissions that you need to complete the tutorial, ask your administrator to grant you the [Owner](https://cloud.google.com/iam/docs/understanding-roles#owner) (`roles/owner`) IAM role on your project. For more information about granting roles, see [Manage access](https://cloud.google.com/iam/docs/granting-changing-revoking-access).\n",
    "\n"
   ],
   "metadata": {
    "id": "QL58mPu9Hw7g"
   }
  },
  {
   "cell_type": "markdown",
   "source": [
    "### Install dependencies"
   ],
   "metadata": {
    "id": "-RYpMytsZ882"
   }
  },
  {
   "cell_type": "code",
   "source": [
    "!pip install --upgrade --quiet \"google-cloud-aiplatform[reasoningengine,langchain]\" langchain-google-cloud-sql-pg langchain-google-vertexai"
   ],
   "metadata": {
    "collapsed": true,
    "id": "w_94DKOCX5pG"
   },
   "execution_count": null,
   "outputs": []
  },
  {
   "cell_type": "markdown",
   "source": [
    "### Authenticate to Google Cloud\n",
    "\n",
    "Authenticate to Google Cloud as the IAM user logged into this notebook in order to access your Google Cloud Project."
   ],
   "metadata": {
    "id": "yPKXjZrFZuUZ"
   }
  },
  {
   "cell_type": "code",
   "execution_count": null,
   "metadata": {
    "id": "NyKGtVQjgx13",
    "tags": []
   },
   "outputs": [],
   "source": [
    "import sys\n",
    "\n",
    "if \"google.colab\" in sys.modules:\n",
    "    from google.colab import auth\n",
    "\n",
    "    auth.authenticate_user()"
   ]
  },
  {
   "cell_type": "markdown",
   "source": [
    "### Define project information"
   ],
   "metadata": {
    "id": "9aGBuLA7aQ6O"
   }
  },
  {
   "cell_type": "code",
   "source": [
    "PROJECT_ID = \"test-managed-lc\"  # @param {type:\"string\"}\n",
    "STAGING_BUCKET_NAME = \"test-managed-lc-bucket\"  # @param {type:\"string\"}\n",
    "STAGING_BUCKET = f\"gs://{STAGING_BUCKET_NAME}\"\n",
    "LOCATION = \"us-central1\"\n",
    "\n",
    "!gcloud config set project {PROJECT_ID}"
   ],
   "metadata": {
    "id": "vIeI4T_XVcDA"
   },
   "execution_count": null,
   "outputs": []
  },
  {
   "cell_type": "code",
   "source": [
    "# Create a Cloud Storage bucket, if it doesn't already exist\n",
    "!gsutil mb -c standard {STAGING_BUCKET}"
   ],
   "metadata": {
    "id": "sptkevO4aUT1"
   },
   "execution_count": null,
   "outputs": []
  },
  {
   "cell_type": "markdown",
   "source": [
    "### Enable APIs\n",
    "\n",
    "This tutorial uses the following billable components of Google Cloud, which you'll need to enable for this tutorial:"
   ],
   "metadata": {
    "id": "veGoLZBYZjxY"
   }
  },
  {
   "cell_type": "code",
   "source": [
    "!gcloud services enable aiplatform.googleapis.com sqladmin.googleapis.com #servicenetworking.googleapis.com"
   ],
   "metadata": {
    "id": "PcKjP3PiXDIi"
   },
   "execution_count": null,
   "outputs": []
  },
  {
   "cell_type": "markdown",
   "source": [
    "## Set up Cloud SQL\n",
    "\n",
    "Use the provided variable names or update the values to use a pre-exisiting Cloud SQL instance."
   ],
   "metadata": {
    "id": "S_yG0kddIvr7"
   }
  },
  {
   "cell_type": "code",
   "source": [
    "REGION = \"us-central1\"  # @param {type:\"string\"}\n",
    "INSTANCE = \"my-instance\"  # @param {type:\"string\"}\n",
    "DATABASE = \"my_database\"  # @param {type:\"string\"}\n",
    "TABLE_NAME = \"my_test_table\"  # @param {type:\"string\"}\n",
    "PASSWORD = input(\"Please provide a password to be used for 'postgres' database user: \")"
   ],
   "metadata": {
    "id": "XtiB5-LVVkv0"
   },
   "execution_count": null,
   "outputs": []
  },
  {
   "cell_type": "markdown",
   "source": [
    "### Create an Cloud SQL  instance\n",
    "\n",
    "This tutorial requires a Cloud SQL instance with public IP enabled."
   ],
   "metadata": {
    "id": "WwwSQ2ZUf51F"
   }
  },
  {
   "cell_type": "code",
   "source": [
    "# Create Cloud SQL instance\n",
    "!gcloud sql instances create {INSTANCE} \\\n",
    "  --database-version=POSTGRES_15 \\\n",
    "  --region={REGION} \\\n",
    "  --project={PROJECT_ID} \\\n",
    "  --root-password={PASSWORD} \\\n",
    "  --cpu=1 \\\n",
    "  --memory=4GB \\\n",
    "  --assign-ip \\\n",
    "  --database-flags=cloudsql.iam_authentication=On"
   ],
   "metadata": {
    "id": "LdbQ2Q0wdNiy"
   },
   "execution_count": null,
   "outputs": []
  },
  {
   "cell_type": "markdown",
   "source": [
    "### Create a database\n",
    "\n",
    "Create a new database for the application using the Cloud SQL for LangChain library to establish a connection pool using the `PostgresEngine`."
   ],
   "metadata": {
    "id": "ZIjNIc71ixye"
   }
  },
  {
   "cell_type": "markdown",
   "source": [
    "By default, [IAM database authentication](https://cloud.google.com/sql/docs/mysql/iam-logins) will be used as the method of database authentication. This library uses the IAM principal belonging to the [Application Default Credentials (ADC)](https://cloud.google.com/docs/authentication/application-default-credentials) sourced from the environment.\n",
    "\n",
    "However, to smooth the onboarding process this tutorial will use the [built-in database authentication](https://cloud.google.com/sql/docs/mysql/built-in-authentication) using a username and password to access the Cloud SQL database can also be used."
   ],
   "metadata": {
    "id": "ZnNy1NFVk9F7"
   }
  },
  {
   "cell_type": "code",
   "source": [
    "from langchain_google_cloud_sql_pg import PostgresEngine\n",
    "\n",
    "engine = await PostgresEngine.afrom_instance(\n",
    "    PROJECT_ID,\n",
    "    REGION,\n",
    "    INSTANCE,\n",
    "    database=\"postgres\",\n",
    "    user=\"postgres\",\n",
    "    password=PASSWORD,\n",
    ")\n",
    "\n",
    "await engine._aexecute_outside_tx(f\"CREATE DATABASE {DATABASE}\")"
   ],
   "metadata": {
    "id": "Pn4c8oZtixLI"
   },
   "execution_count": null,
   "outputs": []
  },
  {
   "cell_type": "markdown",
   "source": [
    "### Initialize a vector store table\n",
    "\n",
    "The `PostgresEngine` has a helper method `init_vectorstore_table()` that can be used to create a table with the proper schema to store vector embeddings."
   ],
   "metadata": {
    "id": "OaP1LRhPi0y7"
   }
  },
  {
   "cell_type": "code",
   "source": [
    "from langchain_google_cloud_sql_pg import PostgresEngine\n",
    "\n",
    "engine = await PostgresEngine.afrom_instance(\n",
    "    PROJECT_ID, REGION, INSTANCE, DATABASE, user=\"postgres\", password=PASSWORD\n",
    ")\n",
    "\n",
    "await engine.ainit_vectorstore_table(\n",
    "    table_name=TABLE_NAME,\n",
    "    vector_size=768,  # Vector size for VertexAI model(textembedding-gecko@latest)\n",
    ")"
   ],
   "metadata": {
    "id": "GGd89YWIi2qg"
   },
   "execution_count": null,
   "outputs": []
  },
  {
   "cell_type": "markdown",
   "source": [
    "### Add embeddings to the vector store\n",
    "\n",
    "Load data from a CSV file to generate and insert embeddings to the vector store."
   ],
   "metadata": {
    "id": "sQ1MI8ARi5Rr"
   }
  },
  {
   "cell_type": "code",
   "source": [
    "from langchain_community.document_loaders.csv_loader import CSVLoader\n",
    "\n",
    "metadata = [\n",
    "    \"show_id\",\n",
    "    \"type\",\n",
    "    \"country\",\n",
    "    \"date_added\",\n",
    "    \"release_year\",\n",
    "    \"rating\",\n",
    "    \"duration\",\n",
    "    \"listed_in\",\n",
    "]\n",
    "loader = CSVLoader(\n",
    "    file_path=\"/content/sample_data/movies.csv\", metadata_columns=metadata\n",
    ")\n",
    "docs = loader.load()"
   ],
   "metadata": {
    "id": "5tGaHva7r4Kc"
   },
   "execution_count": null,
   "outputs": []
  },
  {
   "cell_type": "code",
   "source": [
    "import uuid\n",
    "from langchain_google_cloud_sql_pg import PostgresVectorStore\n",
    "from langchain_google_vertexai import VertexAIEmbeddings\n",
    "\n",
    "\n",
    "vector_store = await PostgresVectorStore.create(\n",
    "    engine,\n",
    "    table_name=TABLE_NAME,\n",
    "    embedding_service=VertexAIEmbeddings(\n",
    "        model_name=\"textembedding-gecko@latest\", project=PROJECT_ID\n",
    "    ),\n",
    ")\n",
    "\n",
    "ids = [str(uuid.uuid4()) for i in range(len(docs))]\n",
    "await vector_store.aadd_documents(docs, ids=ids)"
   ],
   "metadata": {
    "id": "dkMjEXEmi4ro"
   },
   "execution_count": null,
   "outputs": []
  },
  {
   "cell_type": "markdown",
   "source": [
    "### Create a user\n",
    "\n",
    "Set up the AI Platform Reasoning Engine Service Agent service account (`service-PROJECT_NUMBER@gcp-sa-aiplatform-re.iam.gserviceaccount.com`) as a database user - to log into the database, a database client - to connect to the database, and an AI Platform user - to connect to VertexAI models."
   ],
   "metadata": {
    "id": "e9ZfPaG9FGj9"
   }
  },
  {
   "cell_type": "code",
   "source": [
    "# Define service account\n",
    "PROJECT_NUMBER = !gcloud projects describe {PROJECT_ID} --format=\"value(projectNumber)\"\n",
    "SERVICE_ACCOUNT = f\"service-{PROJECT_NUMBER[0]}@gcp-sa-aiplatform-re.iam.gserviceaccount.com\"\n",
    "IAM_USER = SERVICE_ACCOUNT.replace(\".gserviceaccount.com\", \"\")\n",
    "\n",
    "# Add a service account as database IAM user\n",
    "# For an IAM service account, supply the service account's address without the .gserviceaccount.com\n",
    "!gcloud sql users create {IAM_USER} \\\n",
    "  --instance={INSTANCE} \\\n",
    "  --project={PROJECT_ID} \\\n",
    "  --type=cloud_iam_service_account\n",
    "\n",
    "# Grant IAM Permissions for database-user authentication\n",
    "!gcloud projects add-iam-policy-binding {PROJECT_ID} \\\n",
    "    --member=serviceAccount:{SERVICE_ACCOUNT} \\\n",
    "    --role=roles/cloudsql.instanceUser\n",
    "\n",
    "# Grant IAM permissions to access Cloud SQL instances\n",
    "!gcloud projects add-iam-policy-binding {PROJECT_ID} \\\n",
    "    --member=serviceAccount:{SERVICE_ACCOUNT} \\\n",
    "    --role=roles/cloudsql.client\n",
    "\n",
    "# Grant IAM permissions to access AI Platform services\n",
    "!gcloud projects add-iam-policy-binding {PROJECT_ID} \\\n",
    "    --member=serviceAccount:{SERVICE_ACCOUNT}  \\\n",
    "    --role=roles/aiplatform.user\n",
    "\n",
    "!gcloud projects add-iam-policy-binding {PROJECT_ID} \\\n",
    "    --member=serviceAccount:{SERVICE_ACCOUNT}  \\\n",
    "    --role=roles/serviceusage.serviceUsageConsumer"
   ],
   "metadata": {
    "id": "iH39YSf_iZle"
   },
   "execution_count": null,
   "outputs": []
  },
  {
   "cell_type": "code",
   "source": [
    "# Grant access to vector store table to IAM users\n",
    "engine = await PostgresEngine.afrom_instance(\n",
    "    PROJECT_ID, REGION, INSTANCE, DATABASE, user=\"postgres\", password=PASSWORD\n",
    ")\n",
    "\n",
    "await engine._aexecute(f'GRANT SELECT ON {TABLE_NAME} TO \"{IAM_USER}\";')"
   ],
   "metadata": {
    "id": "ojqmIHx8IWdB"
   },
   "execution_count": null,
   "outputs": []
  },
  {
   "cell_type": "markdown",
   "source": [
    "## Define the retriever tool\n",
    "\n",
    "Tools are interfaces that an agent, chain, or LLM can use to enable the Gemini model to interact with external systems, databases, document stores, and other APIs so that the model can get the most up-to-date information or take action with those systems.\n",
    "\n",
    "In this example, you'll define a function that will retrieve similar documents from the vector store using semantic search.\n",
    "\n",
    "For improved security measures, the tool wil use IAM-based authentication to authenticate to the databases instead of using the built-in user/password authentication."
   ],
   "metadata": {
    "id": "XCra5kJVKyg5"
   }
  },
  {
   "cell_type": "code",
   "source": [
    "from langchain_google_cloud_sql_pg import PostgresEngine, PostgresEngine\n",
    "from langchain_google_vertexai import ChatVertexAI, VertexAIEmbeddings\n",
    "\n",
    "\n",
    "def similarity_search(query: str):\n",
    "    \"\"\"Searches and returns movies.\n",
    "\n",
    "    Args:\n",
    "      query: The user query to search for related items\n",
    "\n",
    "    Returns:\n",
    "      List[Document]: A list of Documents\n",
    "    \"\"\"\n",
    "    engine = PostgresEngine.from_instance(\n",
    "        PROJECT_ID,\n",
    "        REGION,\n",
    "        INSTANCE,\n",
    "        DATABASE,\n",
    "        quota_project=PROJECT_ID,\n",
    "        # Uncomment to use built-in authentication instead of IAM authentication\n",
    "        # user=\"postgres\",\n",
    "        # password=PASSWORD,\n",
    "    )\n",
    "\n",
    "    vector_store = PostgresVectorStore.create_sync(\n",
    "        engine,\n",
    "        table_name=TABLE_NAME,\n",
    "        embedding_service=VertexAIEmbeddings(\n",
    "            model_name=\"textembedding-gecko@latest\", project=PROJECT_ID\n",
    "        ),\n",
    "    )\n",
    "    retriever = vector_store.as_retriever()\n",
    "    return retriever.invoke(query)"
   ],
   "metadata": {
    "id": "MpUzFTt2K3Ky"
   },
   "execution_count": null,
   "outputs": []
  },
  {
   "cell_type": "markdown",
   "source": [
    "## Deploy the service\n",
    "\n",
    "Now that you've specified a model, tools, and reasoning for your agent and tested it out, you're ready to deploy your agent as a remote service in Vertex AI!\n",
    "\n",
    "Here, you'll use the LangChain agent template provided in the Vertex AI SDK for Reasoning Engine, which brings together the model, tools, and reasoning that you've built up so far."
   ],
   "metadata": {
    "id": "ERxxgFTcI3DC"
   }
  },
  {
   "cell_type": "code",
   "source": [
    "import vertexai\n",
    "from vertexai.preview import reasoning_engines\n",
    "\n",
    "vertexai.init(project=PROJECT_ID, location=\"us-central1\", staging_bucket=STAGING_BUCKET)\n",
    "\n",
    "remote_app = reasoning_engines.ReasoningEngine.create(\n",
    "    reasoning_engines.LangchainAgent(\n",
    "        model=\"gemini-1.0-pro\",\n",
    "        tools=[similarity_search],\n",
    "        model_kwargs={\n",
    "            \"temperature\": 0.1,\n",
    "        },\n",
    "    ),\n",
    "    requirements=[\n",
    "        \"google-cloud-aiplatform[reasoningengine,langchain]\",\n",
    "        \"langchain-google-cloud-sql-pg\",\n",
    "        \"langchain-google-vertexai\",\n",
    "    ],\n",
    "    display_name=\"PrebuiltAgent\",\n",
    ")"
   ],
   "metadata": {
    "id": "k2nGSr2_JWcc"
   },
   "execution_count": null,
   "outputs": []
  },
  {
   "cell_type": "markdown",
   "source": [
    "## Try it out\n",
    "\n",
    "Query the remote app directly or retrieve the application endpoint via the resource ID or display name. The endpoint can be used from any Python environment."
   ],
   "metadata": {
    "id": "TYqMpB16I4iH"
   }
  },
  {
   "cell_type": "code",
   "source": [
    "response = remote_app.query(input=\"Find movies about engineers\")\n",
    "print(response[\"output\"])"
   ],
   "metadata": {
    "id": "45hiyNyfJ9Zo"
   },
   "execution_count": null,
   "outputs": []
  },
  {
   "cell_type": "code",
   "source": [
    "# Retrieve the application endpoint via the display name\n",
    "app_list = reasoning_engines.ReasoningEngine.list(filter='display_name=\"PrebuiltAgent\"')\n",
    "RESOURCE_ID = app_list[0].name\n",
    "\n",
    "# Retrieve the application endpoint via the resource ID\n",
    "remote_app = reasoning_engines.ReasoningEngine(\n",
    "    f\"projects/{PROJECT_ID}/locations/{LOCATION}/reasoningEngines/{RESOURCE_ID}\"\n",
    ")"
   ],
   "metadata": {
    "id": "rLO17Uv9Xha-"
   },
   "execution_count": null,
   "outputs": []
  },
  {
   "cell_type": "markdown",
   "source": [
    "## Clean up\n",
    "\n",
    "If you created a new project for this tutorial, delete the project. If you used an existing project and wish to keep it without the changes added in this tutorial, delete resources created for the tutorial."
   ],
   "metadata": {
    "id": "MrZ9IjnAI5v9"
   }
  },
  {
   "cell_type": "markdown",
   "source": [
    "### Deleting the project\n",
    "\n",
    "The easiest way to eliminate billing is to delete the project that you created for the tutorial.\n",
    "\n",
    "1. In the Google Cloud console, go to the [Manage resources](https://console.cloud.google.com/iam-admin/projects?_ga=2.235586881.1783688455.1719351858-1945987529.1719351858) page.\n",
    "1. In the project list, select the project that you want to delete, and then click Delete.\n",
    "1. In the dialog, type the project ID, and then click Shut down to delete the project.\n"
   ],
   "metadata": {
    "id": "tBc48ZHOJS6J"
   }
  },
  {
   "cell_type": "markdown",
   "source": [
    "### Deleting tutorial resources\n",
    "\n",
    "Delete the reasoning engine instance(s) and Cloud SQL instance."
   ],
   "metadata": {
    "id": "Ed-BFtW-JPbI"
   }
  },
  {
   "cell_type": "code",
   "source": [
    "# Delete the ReasoningEngine instance\n",
    "remote_app.delete()"
   ],
   "metadata": {
    "id": "LgNlHrxkb6c-"
   },
   "execution_count": null,
   "outputs": []
  },
  {
   "cell_type": "code",
   "source": [
    "# Or delete all Reasoning Engine apps\n",
    "apps = reasoning_engines.ReasoningEngine.list()\n",
    "for app in apps:\n",
    "    app.delete()"
   ],
   "metadata": {
    "id": "goyrqS2_I8Hs"
   },
   "execution_count": null,
   "outputs": []
  },
  {
   "cell_type": "code",
   "source": [
    "# Delete the Cloud SQL instance\n",
    "!gcloud sql instances delete {INSTANCE} \\\n",
    "  --project={PROJECT_ID}"
   ],
   "metadata": {
    "id": "odvj8aKpb3Wi"
   },
   "execution_count": null,
   "outputs": []
  },
  {
   "cell_type": "markdown",
   "source": [
    "## What's next\n",
    "\n",
    "* Dive deeper into [LangChain on Vertex AI](https://cloud.google.com/vertex-ai/generative-ai/docs/reasoning-engine/overview).\n",
    "* Learn more about the [Cloud SQL for LangChain library](https://github.com/googleapis/langchain-google-cloud-sql-pg-python).\n",
    "* Explore other [Reasoning Engine samples](https://github.com/GoogleCloudPlatform/generative-ai/tree/main/gemini/reasoning-engine)."
   ],
   "metadata": {
    "id": "8NbUPwEfI62R"
   }
  }
 ],
 "metadata": {
  "colab": {
   "provenance": []
  },
  "kernelspec": {
   "display_name": "Python 3",
   "name": "python3"
  },
  "language_info": {
   "codemirror_mode": {
    "name": "ipython",
    "version": 3
   },
   "file_extension": ".py",
   "mimetype": "text/x-python",
   "name": "python",
   "nbconvert_exporter": "python",
   "pygments_lexer": "ipython3",
   "version": "3.11.5"
  }
 },
 "nbformat": 4,
 "nbformat_minor": 0
}